{
 "cells": [
  {
   "cell_type": "code",
   "execution_count": 68,
   "id": "2f3d0f52",
   "metadata": {},
   "outputs": [],
   "source": [
    "# Define set in list + import import import import import import\n",
    "from collections import Counter\n",
    "import math\n",
    "\n",
    "X = [4,7,5,1,3,6,4,8,5,7,2,5,6,3,9,6,8,5,7,4]"
   ]
  },
  {
   "cell_type": "markdown",
   "id": "023b528a",
   "metadata": {},
   "source": [
    "1. Write codes to obtain `x` from `X` and number `N` of `x`."
   ]
  },
  {
   "cell_type": "code",
   "execution_count": 59,
   "id": "9a81e0de",
   "metadata": {},
   "outputs": [
    {
     "name": "stdout",
     "output_type": "stream",
     "text": [
      "Banyak data:  20\n"
     ]
    }
   ],
   "source": [
    "# Obtain x from X\n",
    "\n",
    "# n = masukin mau suku ke berapa dari array listX\n",
    "# a = listX[n]\n",
    "\n",
    "# Number N of x\n",
    "N = len(X)\n",
    "print(\"Banyak data: \", N)"
   ]
  },
  {
   "cell_type": "markdown",
   "id": "7062e22b",
   "metadata": {},
   "source": [
    "2. Write codes to obtain mean `x_mean`, median `x_med`, and mode `x_mod` of `x`."
   ]
  },
  {
   "cell_type": "code",
   "execution_count": 60,
   "id": "9fe3346f",
   "metadata": {},
   "outputs": [
    {
     "name": "stdout",
     "output_type": "stream",
     "text": [
      "Jumlah seluruh data:  105\n",
      "Mean:  5.25\n"
     ]
    }
   ],
   "source": [
    "# Mean\n",
    "sigma = 0\n",
    "for a in range(N):\n",
    "    sigma += X[a]\n",
    "print(\"Jumlah seluruh data: \", sigma)\n",
    "\n",
    "x_mean = sigma/N\n",
    "print(\"Mean: \", x_mean)"
   ]
  },
  {
   "cell_type": "code",
   "execution_count": 61,
   "id": "771a290c",
   "metadata": {},
   "outputs": [
    {
     "name": "stdout",
     "output_type": "stream",
     "text": [
      "[1, 2, 3, 3, 4, 4, 4, 5, 5, 5, 5, 6, 6, 6, 7, 7, 7, 8, 8, 9]\n",
      "Median:  [5, 5]\n"
     ]
    }
   ],
   "source": [
    "# Median\n",
    "sortx = sorted(X)\n",
    "print(sortx)\n",
    "x_median = []\n",
    "modN = N%2\n",
    "half = N/2\n",
    "if modnum == 0: #jika banyak data genap\n",
    "    x_median.append(sortx[int(half-1)])\n",
    "    x_median.append(sortx[int(half)])\n",
    "else: #jika banyak data ganjil\n",
    "    x_median.append(sortx[int(round(half))])\n",
    "print(\"Median: \", x_median)"
   ]
  },
  {
   "cell_type": "code",
   "execution_count": 62,
   "id": "40885477",
   "metadata": {},
   "outputs": [
    {
     "name": "stdout",
     "output_type": "stream",
     "text": [
      "Counter({5: 4, 4: 3, 6: 3, 7: 3, 3: 2, 8: 2, 1: 1, 2: 1, 9: 1})\n",
      "Mode: 5\n"
     ]
    }
   ],
   "source": [
    "# Mode\n",
    "count = Counter(sortx)\n",
    "print(count)\n",
    "\n",
    "x_mode = dict(count)\n",
    "mode = [k for k, v in x_mode.items() if v == max(list(count.values()))]\n",
    "\n",
    "if len(mode) == N:\n",
    "    x_mode = \"No mode found\"\n",
    "else:\n",
    "    x_mode = \"Mode: \" + ', '.join(map(str,mode))\n",
    "\n",
    "max_count = max(count, key=count.get)\n",
    "print(x_mode)\n"
   ]
  },
  {
   "cell_type": "markdown",
   "id": "6e9cc09b",
   "metadata": {},
   "source": [
    "3. Write codes to obtain maximum `x_max`, minimum `x_min`, and range `x_range` of `x`."
   ]
  },
  {
   "cell_type": "code",
   "execution_count": 66,
   "id": "adda9fe3",
   "metadata": {},
   "outputs": [
    {
     "name": "stdout",
     "output_type": "stream",
     "text": [
      "Maximum:  9\n",
      "Minimum:  1\n",
      "Range:  8\n"
     ]
    }
   ],
   "source": [
    "x_max = max(sortx)\n",
    "print(\"Maximum: \", x_max)\n",
    "\n",
    "x_min = min(sortx)\n",
    "print(\"Minimum: \", x_min)\n",
    "\n",
    "x_range = x_max - x_min\n",
    "print(\"Range: \", x_range)"
   ]
  },
  {
   "cell_type": "markdown",
   "id": "c640cc63",
   "metadata": {},
   "source": [
    "4. Write codes to obtain variance `x_var` and standard deviation `x_sdev` of `x`."
   ]
  },
  {
   "cell_type": "code",
   "execution_count": 69,
   "id": "981694dc",
   "metadata": {},
   "outputs": [
    {
     "name": "stdout",
     "output_type": "stream",
     "text": [
      "Variance:  4.1875\n",
      "Standard Deviation:  2.0463381929681126\n"
     ]
    }
   ],
   "source": [
    "sigma2 = 0\n",
    "for m in range(len(X)):\n",
    "    difsqrd = (X[m] - x_mean)**2\n",
    "    sigma2 += difsqrd\n",
    "\n",
    "x_var = sigma2/N\n",
    "print(\"Variance: \", x_var) # population variance\n",
    "\n",
    "x_sdev = math.sqrt(x_var)\n",
    "print(\"Standard Deviation: \", x_sdev)"
   ]
  }
 ],
 "metadata": {
  "kernelspec": {
   "display_name": "Python 3 (ipykernel)",
   "language": "python",
   "name": "python3"
  },
  "language_info": {
   "codemirror_mode": {
    "name": "ipython",
    "version": 3
   },
   "file_extension": ".py",
   "mimetype": "text/x-python",
   "name": "python",
   "nbconvert_exporter": "python",
   "pygments_lexer": "ipython3",
   "version": "3.9.7"
  }
 },
 "nbformat": 4,
 "nbformat_minor": 5
}
