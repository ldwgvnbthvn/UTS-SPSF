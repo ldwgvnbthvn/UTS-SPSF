{
 "cells": [
  {
   "cell_type": "markdown",
   "id": "24efb399",
   "metadata": {},
   "source": [
    "1. For $f(x) = \\sin x$ and $0 \\le x \\le \\pi$ make code to calculate area below the curve using rectangle left point, rectangle mid point, rectangle right point, trapezium, and Simpson method for $10$ partition. Explain which method gives the best result. What is the analytical solution of the problem? Name each method with different function, e.g `rectl()`, `rectm()`, `rectr()`, `trapez()`, and `simpson()` with `xbeg`, `xend`, `partition` as parameters."
   ]
  },
  {
   "cell_type": "code",
   "execution_count": 16,
   "id": "58fc6bc5",
   "metadata": {},
   "outputs": [
    {
     "name": "stdout",
     "output_type": "stream",
     "text": [
      "Area (left rect) = 1.9835235375094544\n"
     ]
    }
   ],
   "source": [
    "# Rectangle Left Point\n",
    "import math\n",
    "\n",
    "# Define function to be integrated\n",
    "def f(x):\n",
    "    fx =  math.sin(x)\n",
    "    return fx \n",
    "\n",
    "# define lower and upper bounds\n",
    "a = 0\n",
    "b = math.pi\n",
    "\n",
    "# define number of area and calculate dx\n",
    "N = 10\n",
    "\n",
    "def rectl(f, a, b, N):\n",
    "    dx = (b - a) / N\n",
    "    x = [a + i*dx for i in range(N)]\n",
    "    A = 0\n",
    "    for xi in x:\n",
    "        Ai = f(xi) * dx\n",
    "        A += Ai\n",
    "    return A\n",
    "\n",
    "Aleftrect = rectl(f, a, b, N)\n",
    "print(\"Area (left rect) =\", Aleftrect)"
   ]
  },
  {
   "cell_type": "code",
   "execution_count": 13,
   "id": "df828813",
   "metadata": {},
   "outputs": [
    {
     "name": "stdout",
     "output_type": "stream",
     "text": [
      "Area (mid rect) = 1.9835235375094544\n"
     ]
    }
   ],
   "source": [
    "# Rectangular Mid Point\n",
    "\n",
    "def rectm(f, a, b, N):\n",
    "    dx = (b - a) / N\n",
    "    x = [a + i*dx for i in range(N)]\n",
    "    A = 0\n",
    "    for xi in x:\n",
    "        Ai = f(xi + dx) * dx\n",
    "        A += Ai\n",
    "    return A\n",
    "\n",
    "Amidrect = rectm(f, a, b, N)\n",
    "print(\"Area (mid rect) =\", Amidrect)\n"
   ]
  },
  {
   "cell_type": "code",
   "execution_count": 14,
   "id": "28db17fa",
   "metadata": {},
   "outputs": [
    {
     "name": "stdout",
     "output_type": "stream",
     "text": [
      "Area (right rect) = 1.9835235375094544\n"
     ]
    }
   ],
   "source": [
    "# Rectangular Right Point\n",
    "\n",
    "def rectr(f, a, b, N):\n",
    "    dx = (b - a) / N\n",
    "    x = [a + i*dx for i in range(N)]\n",
    "    A = 0\n",
    "    for xi in x:\n",
    "        Ai = f(xi + dx) * dx\n",
    "        A += Ai\n",
    "    return A\n",
    "\n",
    "Arightrect = rectr(f, a, b, N)\n",
    "print(\"Area (right rect) =\", Arightrect)"
   ]
  },
  {
   "cell_type": "code",
   "execution_count": 15,
   "id": "e2e56da9",
   "metadata": {},
   "outputs": [
    {
     "name": "stdout",
     "output_type": "stream",
     "text": [
      "Area (trapezium) = 1.9835235375094546\n"
     ]
    }
   ],
   "source": [
    "# Trapezium\n",
    "\n",
    "def trapez(f, a, b, N):\n",
    "    dx = (b - a) / N\n",
    "    x = [a + i*dx for i in range(N)]\n",
    "    A = 0\n",
    "    for xi in x:\n",
    "        Ai = (f(xi) + f(xi + dx)) * (dx / 2)\n",
    "        A += Ai\n",
    "    return A\n",
    "\n",
    "Atrap = trapez(f, a, b, N)\n",
    "print(\"Area (trapezium) =\", Atrap)"
   ]
  },
  {
   "cell_type": "code",
   "execution_count": 17,
   "id": "65d88711",
   "metadata": {},
   "outputs": [
    {
     "name": "stdout",
     "output_type": "stream",
     "text": [
      "Area (simpson) = 2.000006784441801\n"
     ]
    }
   ],
   "source": [
    "# Simpson Rule\n",
    "\n",
    "def simpson(f, a, b, N):\n",
    "    dx = (b - a) / N\n",
    "    x = [a + i*dx for i in range(N)]\n",
    "    A = 0\n",
    "    for xi in x:\n",
    "        Ai = (f(xi) + 4*f(xi + 0.5*dx) + f(xi + dx)) * (dx / 6)\n",
    "        A += Ai\n",
    "    return A\n",
    "\n",
    "Asimp = simpson(f, a, b, N)\n",
    "print(\"Area (simpson) =\", Asimp)"
   ]
  },
  {
   "cell_type": "code",
   "execution_count": 19,
   "id": "a9573c0c",
   "metadata": {},
   "outputs": [
    {
     "name": "stdout",
     "output_type": "stream",
     "text": [
      "Analytic answer = 2\n",
      "Simpson rule's is the closest to the analytics.\n"
     ]
    }
   ],
   "source": [
    "print(\"Analytic answer = 2\")\n",
    "print(\"Simpson rule's is the closest to the analytics.\")"
   ]
  },
  {
   "cell_type": "markdown",
   "id": "47946182",
   "metadata": {},
   "source": [
    "2. Using Finite Difference Method (FDM) find plot the curve of vertical position $y$ againts time $t$ for a free fall motion if $y_0 = 10 \\ \\rm m$, $y_t = 20 \\ \\rm m$, $g = -10  \\ \\rm m/s^2$ with number of grid $n = 10, 20, 40, 80, 160$ by modifying [a code](https://pythonnumericalmethods.berkeley.edu/notebooks/chapter23.03-Finite-Difference-Method.html). Explain the form of the curve. Which $n$ gives better result?"
   ]
  },
  {
   "cell_type": "code",
   "execution_count": null,
   "id": "723489d9",
   "metadata": {},
   "outputs": [],
   "source": [
    "import numpy as np\n",
    "import matplotlib.pyplot as plt\n",
    "plt.style.use('seaborn-poster')\n",
    "%matplotlib inline\n",
    "\n",
    "n = 10\n",
    "h = (5-0) / n\n",
    "\n",
    "# Get A\n",
    "A = np.zeros((n+1, n+1))\n",
    "A[0, 0] = 1\n",
    "A[n, n] = 1\n",
    "for i in range(1, n):\n",
    "    A[i, i-1] = 1\n",
    "    A[i, i] = -2\n",
    "    A[i, i+1] = 1\n",
    "\n",
    "print(A)\n",
    "\n",
    "# Get b\n",
    "b = np.zeros(n+1)\n",
    "b[1:-1] = -9.8*h**2\n",
    "b[-1] = 50\n",
    "print(b)\n",
    "\n",
    "# solve the linear equations\n",
    "y = np.linalg.solve(A, b)\n",
    "\n",
    "t = np.linspace(0, 5, 11)\n",
    "\n",
    "plt.figure(figsize=(10,8))\n",
    "plt.plot(t, y)\n",
    "plt.plot(5, 50, 'ro')\n",
    "plt.xlabel('time (s)')\n",
    "plt.ylabel('altitude (m)')\n",
    "plt.show()"
   ]
  }
 ],
 "metadata": {
  "kernelspec": {
   "display_name": "Python 3 (ipykernel)",
   "language": "python",
   "name": "python3"
  },
  "language_info": {
   "codemirror_mode": {
    "name": "ipython",
    "version": 3
   },
   "file_extension": ".py",
   "mimetype": "text/x-python",
   "name": "python",
   "nbconvert_exporter": "python",
   "pygments_lexer": "ipython3",
   "version": "3.9.7"
  }
 },
 "nbformat": 4,
 "nbformat_minor": 5
}
