{
 "cells": [
  {
   "cell_type": "markdown",
   "id": "d5e12f12",
   "metadata": {},
   "source": [
    "1. Modify following lines of code in order to produce right flowchart for finding root using secant method."
   ]
  },
  {
   "cell_type": "code",
   "execution_count": null,
   "id": "c9d5a0d8",
   "metadata": {},
   "outputs": [],
   "source": []
  },
  {
   "cell_type": "markdown",
   "id": "f182dc2e",
   "metadata": {},
   "source": [
    "2. Make a function `f(x)` for $f(x) = x^3 - 2x^2 +  x - 1$."
   ]
  },
  {
   "cell_type": "code",
   "execution_count": null,
   "id": "abdd0bb0",
   "metadata": {},
   "outputs": [],
   "source": []
  },
  {
   "cell_type": "markdown",
   "id": "41e3e58c",
   "metadata": {},
   "source": [
    "3. Make a function `smaller_root_range(f, xbeg, xend, dx)` using `f(x)` from `xbeg = -1` until `xend = 2` with `dx = 0.1` that return smaller range `xleft, xright`, where $x_{\\rm left} < x_{\\rm root} < x_{\\rm right}$ and $x_{\\rm right} - x_{\\rm left} = \\Delta x$. Print the result of this scanning method."
   ]
  },
  {
   "cell_type": "code",
   "execution_count": null,
   "id": "48e9da41",
   "metadata": {},
   "outputs": [],
   "source": []
  },
  {
   "cell_type": "markdown",
   "id": "c2dc9097",
   "metadata": {},
   "source": [
    "4. Make function for secant method `root_secant()` and use function `f(x)` to find the root with initial conditions are previous values of `xbeg` and `xend`. Compare the result from this method with previous method."
   ]
  },
  {
   "cell_type": "code",
   "execution_count": null,
   "id": "12e3cd69",
   "metadata": {},
   "outputs": [],
   "source": []
  }
 ],
 "metadata": {
  "kernelspec": {
   "display_name": "Python 3 (ipykernel)",
   "language": "python",
   "name": "python3"
  },
  "language_info": {
   "codemirror_mode": {
    "name": "ipython",
    "version": 3
   },
   "file_extension": ".py",
   "mimetype": "text/x-python",
   "name": "python",
   "nbconvert_exporter": "python",
   "pygments_lexer": "ipython3",
   "version": "3.9.7"
  }
 },
 "nbformat": 4,
 "nbformat_minor": 5
}
